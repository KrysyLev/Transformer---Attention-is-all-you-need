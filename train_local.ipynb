{
 "cells": [
  {
   "cell_type": "code",
   "execution_count": null,
   "metadata": {},
   "outputs": [
    {
     "name": "stderr",
     "output_type": "stream",
     "text": [
      "c:\\Users\\nguye\\.conda\\envs\\transformer\\Lib\\site-packages\\tqdm\\auto.py:21: TqdmWarning: IProgress not found. Please update jupyter and ipywidgets. See https://ipywidgets.readthedocs.io/en/stable/user_install.html\n",
      "  from .autonotebook import tqdm as notebook_tqdm\n"
     ]
    },
    {
     "name": "stdout",
     "output_type": "stream",
     "text": [
      "Using device: cuda\n",
      "Device name: NVIDIA GeForce RTX 3070 Ti\n",
      "Device memory: 8.00 GB\n",
      "Max length of source sentence: 309\n",
      "Max length of target sentence: 274\n",
      "Preloading model weights\\tmodel_00.pt\n"
     ]
    },
    {
     "name": "stderr",
     "output_type": "stream",
     "text": [
      "Processing epoch: 01: 100%|██████████| 3638/3638 [11:22<00:00,  5.33it/s, loss=4.250]\n"
     ]
    },
    {
     "name": "stdout",
     "output_type": "stream",
     "text": [
      "--------------------------------------------------------------------------------\n",
      "    SOURCE: And having committed this prime error, he was obliged to follow it up, so much so that, to put an end to the ambition of Alexander, and to prevent his becoming the master of Tuscany, he was himself forced to come into Italy.\n",
      "    TARGET: E, fatto uno primo errore, fu costretto a seguitare; in tanto che, per porre fine alla ambizione di Alessandro e perché non divenissi signore di Toscana, fu forzato venire in Italia.\n",
      " PREDICTED: “ Arkad ’ era ’ ’ ’ ’ ’ ’ ’ ’ ’ ’ ’ ’ ’ ’ ’ ’ ’ ’ ’ ’ ’ ’ ’ ’ ’ ’ ’ ’ ’ ’ ’ ’ ’ ’ ’ ’ ’ ’ ’ ’ ’ ’ ’ ’ si si si si si si si si si si si si si si si si si si si si si si si si si si si si si si si si si si si si si si si si si si si si si si si si si si si si si si si si si si si si si si si si si si si si si si si si si si si si si si si si si si si si si si si si si si si si si si si si si si si si si si si si si si si si si si si si si si si si si si si si si si si si si si si si si si si si si si si si si si si si si si si si si si si si si si si si si si si si si si si si si si si si si si si si si si ’ si si si si si si si si si si si si si si si si si si si si si si si si si si si si si si si si si si si si si si si si si si si si si si si si si si si si si si si si si si si si si si si si si si si si si ’ ’ ’ si si si si ’ ’ si si si ’ si si si si si si si si si si si si si si si si si si si si si si si si si si si si si si si si si si si si si si si si si si si si si si si si\n",
      "--------------------------------------------------------------------------------\n",
      "    SOURCE: At the end of five-and-thirty minutes, Harris said, \"Ah!\" and took his left leg out from under him and put his right one there instead.\n",
      "    TARGET: Alla fine di trentacinque minuti, Harris disse: — Ah! — e cambiò di posto alla gamba destra, che accavalciò sulla sinistra.\n",
      " PREDICTED: “ — . . . . . . . . . . . . . . . . . . . . . . . . . . . . . . . . . . . . . . . . . . . . . . . . . . . . . . . . . . . . . . . . . . . . . . . . . . . . . . ? . ? . “ ? ? ? ? ? ? ? ? ? ? ? ? ? ? ? ? ? ? ? ? ? ? ? . “ ? ? ? ? ? ? ? ! ? ? ? ? ? ? ? ? ? ? ? ? ? ? ? ? ? ? ? ? ? ? ? ? ? ? ? ? ? ? ? ? ? ? ? ? ? ? ? ? ? ? ? ? ? ? ? ? ? ? ? ? ? ? ? ? ? ? ? ? ? ? ? ? ? ? ? ? ? ? ? ? ? ? ? ? ? ? ? ? ? ? ? ? ? ? ? ? ? ? ? ? ? ? ? ? ? ? ? ? ? ? ? ? ? ? ? ? ? ? ? ? ? ? ? ? ? ? ? ? ? ? ? ? ? ? ? ? ? ? ? ? ? ? ? ? ? ? ? ? ? ? ? ? ? ? ? ? ? ? ? ? ? ? ? ? ? ? ? ? ? ? ? ? ? ? ? ? ? ? ? ? ? ? ? ? ? ? ? ? ? ? ? ? ? . “ ? ? ? ? ? ? ? ? ? ? ? ? . ? . “ ? ? ? ? ? ? ? ? ? ? ? ? ? ? ? ? ? ? ? ? ? ? ? ? ? “ ? “\n",
      "--------------------------------------------------------------------------------\n"
     ]
    },
    {
     "name": "stderr",
     "output_type": "stream",
     "text": [
      "Processing epoch: 02: 100%|██████████| 3638/3638 [11:24<00:00,  5.31it/s, loss=2.455]\n"
     ]
    },
    {
     "name": "stdout",
     "output_type": "stream",
     "text": [
      "--------------------------------------------------------------------------------\n",
      "    SOURCE: He had said just what, her soul desired but her reason dreaded.\n",
      "    TARGET: Egli aveva detto proprio quello che l’anima sua desiderava, ma che la sua ragione temeva.\n",
      " PREDICTED: \" \" \" \" \" \" \" \" \" \" \" \" \" \" \" \" \" \" \" \" \" \" \" \" \" \" \" \" \" \" \" \" \" \" \" \" \" \" \" \" \" \" \" \" \" \" \" \" \" \" \" \" \" \" \" \" \" \" \" \" \" \" \" \" \" \" \" \" \" \" \" \" \" \" \" \" \" \" \" \" \" \" \" \" \" \" \" \" \" \" \" \" \" \" \" \" \" \" \" \" \" \" \" \" \" \" \" \" \" \" \" \" \" \" \" \" \" \" \" \" \" \" \" \" \" \" \" \" \" \" \" \" \" \" \" \" \" \" \" \" \" \" \" \" \" \" \" \" \" \" \" \" \" \" \" \" \" \" \" \" \" \" \" \" \" \" \" \" \" \" \" \" \" \" \" \" \" \" \" \" \" \" \" \" \" \" \" \" \" \" \" \" \" \" \" \" \" \" \" \" \" \" \" \" \" \" \" \" \" \" \" \" \" \" \" \" — \" \" \" \" \" \" \" \" \" \" \" \" \" \" \" \" \" \" \" \" \" \" Sì \" Sì \" Sì \" Sì \" Sì \" Sì \" \" \" Sì \" Sì \" Sì \" \" \" \" Sì \" Sì \" Sì \" Sì \" Sì \" Sì \" Sì \" Sì \" Sì \" Sì \" Sì \" Sì \" Sì \" Sì \" Sì \" Sì \" Sì \" \" \" \" \" Sì \" Sì \" Sì \" \" \" — \" — \" Sì \" Sì \" Sì \" Sì \" Sì \" Sì \" Sì \" Sì \" Sì \" Sì \" Sì \" Sì \" Sì \" Sì \" — \" Sì \" Sì \" Sì \" Sì\n",
      "--------------------------------------------------------------------------------\n",
      "    SOURCE: Some fishermen come here and fish for a day, and others stop and fish for a month.\n",
      "    TARGET: Alcuni pescatori ci vanno e pescano per un giorno, e altri si fermano a pescare per un mese.\n",
      " PREDICTED: \" \" \" \" \" \" \" \" \" \" \" \" \" \" \" \" \" \" \" \" \" \" \" \" \" \" \" \" \" \" \" \" \" \" \" \" \" \" \" \" \" \" \" \" \" \" \" \" \" \" \" \" \" \" \" \" \" \" \" \" \" \" \" \" \" \" \" \" \" \" \" \" \" \" \" \" \" \" \" \" \" \" \" \" \" \" \" \" \" \" \" \" \" \" \" \" \" \" \" \" \" \" \" \" \" \" \" \" \" \" \" \" \" \" \" \" \" \" \" \" \" \" \" \" \" \" \" \" \" \" \" \" \" \" \" \" \" \" \" \" \" \" \" \" \" \" \" \" \" \" \" \" \" \" \" \" \" \" \" \" \" \" \" \" \" \" \" \" \" \" \" \" \" \" \" \" \" \" \" \" \" \" \" \" \" \" \" \" \" \" \" \" \" \" \" \" \" \" \" \" \" \" \" \" \" \" \" \" \" \" \" \" \" \" \" \" — \" \" \" \" \" \" \" \" \" \" \" \" \" \" \" \" \" \" \" \" \" \" Sì \" Sì \" Sì \" Sì \" Sì \" Sì \" \" \" Sì \" Sì \" Sì \" \" \" \" Sì \" Sì \" Sì \" Sì \" Sì \" Sì \" Sì \" Sì \" Sì \" Sì \" Sì \" Sì \" Sì \" Sì \" Sì \" Sì \" Sì \" \" \" \" \" Sì \" Sì \" Sì \" \" \" \" — \" — \" Sì \" Sì \" Sì \" Sì \" Sì \" Sì \" Sì \" Sì \" Sì \" Sì \" Sì \" Sì \" Sì \" Sì \" — \" Sì \" Sì \" Sì \"\n",
      "--------------------------------------------------------------------------------\n"
     ]
    },
    {
     "name": "stderr",
     "output_type": "stream",
     "text": [
      "Processing epoch: 03: 100%|██████████| 3638/3638 [11:26<00:00,  5.30it/s, loss=2.697]\n"
     ]
    },
    {
     "name": "stdout",
     "output_type": "stream",
     "text": [
      "--------------------------------------------------------------------------------\n",
      "    SOURCE: \"Truly able.\"\n",
      "    TARGET: — Veramente ammirabile.\n",
      " PREDICTED: \"— \"— \"— \"— \"— \"— \"— \"— \"— \"— \"— \"— \"— \"— \"— \"— \"— \"— \"— \"— \"— \"— \"— \"— \"— \"— \"— \"— \"— \"— \"— \"— \"— \"— \"— \"— \"— \"— \"— \"— \"— \"— \"— \"— \"— \"— \"— \"— \"— \"— \"— \"— \"— \"— \"— \"— \"— ?... ?... ?... ?... ?... ?... ?... ?... ?... ?... ?... ?... ?... ?... ?... ?... ?... ?... ?... ?... ?... ?... ?... ?... ?... ?... ?... ?... ?... ?... ?... ?... ?... ?... ?... ?... ?... ?... ?... ?... ?... ?... ?... ?... ?... ?... ?... ?... ?... ?... ?... ?... ?... ?... ?... ?... ?... ?... ?... ?... ?... ?... ?... ?... ?... ?... ?... ?... ?... ?... ?... ?... ?... ?... ?... ?... ?... ?... ?... ?... ?... ?... ?... ?... ?... ?... ?... ?... ?... ?... ?... ?... ?... ?... ?... ?... ?... ?... ?... ?... ?... ?... ?... ?... ?... ’, ?... ’, ?... ’, ?... ’, ?... ’, ?... ?... ?... ?... ?... ?... ?... ?... ’, ?... ’, ?... ’, ?... ’, ?... ?... ?... ?... ?... ?... ?... ?... ?... ?... Va ?... ’, ?... ’, ?... ’, ?... ’, ?... ?... Va ?... Va ?... ’, ?... Va ?... Va ?... ?... ?... Va ?... Ma ?... Va ?... Va ?... Ma ?... Ma ?... ?... Va ?... Ma Alice Ma ?... Va ?... Va ’, Ma ?... Ma ?... Va ?... Va ’, Alice Ma ?... Va ?... Va ?... Ma ?... Ma ?... Ma ?... Va ?... Ma ?... Ma ?... Ma ?... Va ?... Va ?... Ma ?... Ma ?... Ma ?... Ma ?... Ma ?... Ma ?... Ma ?... Ma ?... Va ?... Ma ?... Va ?... ’, ?... Ma ?... Ma ?... ’, ?... ?... Va ?... Ma ?... ’, ?... ?... ?... ?... ?... ?... ?... ’, ?... ’, ?... ’, ?... Va ?... ’, ?... ’, ?... Va ?... Va ?... Va ?... Va ?... Va ?... Va ’, ?... Ma ?... Ma ?... Ma ?...\n",
      "--------------------------------------------------------------------------------\n",
      "    SOURCE: I had a small silk handkerchief tied round my throat; I had my gloves.\n",
      "    TARGET: Avevo un piccolo fazzoletto di seta intorno al collo, avevo i guanti.\n",
      " PREDICTED: \"— \"— \"— \"— \"— \"— \"— \"— \"— \"— \"— \"— \"— \"— \"— \"— \"— \"— \"— \"— \"— \"— \"— \"— \"— \"— \"— \"— \"— \"— \"— \"— \"— \"— \"— \"— \"— \"— \"— \"— \"— \"— \"— \"— \"— \"— \"— \"— \"— \"— \"— \"— \"— \"— \"— \"— \"— \"— \"— \"— \"— \"— \"— \"— \"— \"— \"— \"— \"— \"— \"— \"— \"— \"— \"— \"— \"— \"— \"— ?... ?... ?... ?... ?... ?... ?... ?... ?... ?... ?... ?... ?... ?... ?... ?... ?... ?... ?... ?... ?... ?... ?... ?... ?... ?... ?... ?... ?... ?... ?... ?... ?... ?... ?... ?... ?... ?... ?... ?... ?... ?... ?... ?... ?... ?... ?... ?... ?... ?... ?... ?... ?... ?... ?... ?... ?... ?... ?... ?... ?... ?... ?... ?... ?... ?... ?... ?... ?... ?... ?... ?... ?... ?... ?... ?... ?... ?... ?... ?... ?... ?... ?... ’, ?... ’, ?... ?... ?... ’, ?... ’, ?... ?... ?... ?... ?... ?... ?... ?... ?... ’, ?... ’, ?... ’, ?... ?... ?... ?... ?... ?... ?... ?... ?... ?... Va ?... Va ?... ’, ?... ’, ?... ’, ?... ?... ’, ?... Va ?... Va ?... ’, ?... Va ?... Va ?... ?... ’, Jane Va ?... Va ?... Va ’, Jane Va ?... Va ?... Va ?... ’, Jane ?... Va ?... Va ?... Ma Jane ’, ?... Va ?... Va Alice Ma Jane ?... Va ?... Va ?... Ma ?... Ma ?... Va ?... Va ?... Ma ?... Ma ?... Va ?... Va ?... Va ?... Ma ?... Ma ?... Ma ?... Ma ?... Ma ?... Ma ?... Ma ?... Ma ?... ’, ?... Va ?... Ma ?... Va ?... ’, ?... ’, ?... ’, ?... ’, ?... Va ?... Ma ?... ’, ?... ?... ?... ?... ?... ?... ’, ?... ’, ?... ’, ?... ’, ?... ’, ?... ’, ?... ’, ?... Va ?... Va ?... Va ?... Va ?... Va ?... Va ’, ?... Ma ?... Ma ?... ’,\n",
      "--------------------------------------------------------------------------------\n"
     ]
    },
    {
     "name": "stderr",
     "output_type": "stream",
     "text": [
      "Processing epoch: 04: 100%|██████████| 3638/3638 [11:26<00:00,  5.30it/s, loss=1.718]\n"
     ]
    },
    {
     "name": "stdout",
     "output_type": "stream",
     "text": [
      "--------------------------------------------------------------------------------\n",
      "    SOURCE: The master, though vigilant in the business of preserving the ship, yet as he went in and out of his cabin by me, I could hear him softly to himself say, several times, “Lord be merciful to us! we shall be all lost! we shall be all undone!” and the like.\n",
      "    TARGET: Il capitano si dava con la massima vigilanza all’opera per preservare la nave; ma mentre or tornava nella sua camera, or ne veniva passandomi da vicino, potei udirlo quando disse parecchie volte fra sè medesimo: Dio, abbiateci misericordia! saremo tutti perduti, tutti morti! e cose simili. Durante i primi scompigli io rimaneva istupidito tuttavia nella mia camera, posta dinanzi alla paratia della grande, nè potrei descrivere qual fosse lo stato dell’animo mio.\n",
      " PREDICTED: . . . . . . . . . . . . . . . . . . . . . . . . . . . . . . . . . . . . . . . . . . . . . . . . . . . . . . . . . . . . . . . . . . . . . . . . . . . . . . . . . . . . . . . . . . . . . . . . . . . . . . . . . . . . . . . . . . . . . . . . . . . . . . . . . . . . . . . . . . . . . . . . . . . . . . . . . . . . . . . . . . . . . . . . . . . . . . . . . . . . . . . . . . . . . . . . . . . . . . . . . . . . . . . . . . . . . . . . . . . . . . . . . . . . . . . . . . . . . . . . . . . . . . . . . . . . . . . . . . . . . . . . . . . . . . . . . . . . . . . . . . . . . . . . . . . . . . . . . . . . . . . . . . . . . . . . . . . . . . . . . . . . . . . . . . . . . . . . . . . . . . . . . . . . .\n",
      "--------------------------------------------------------------------------------\n",
      "    SOURCE: 'He said that he suffers on your account and on his own.\n",
      "    TARGET: — Ha detto che soffre per te e per sé.\n",
      " PREDICTED: . . . . . . . . . . . . . . . . . . . . . . . . . . . . . . . . . . . . . . . . . . . . . . . . . . . . . . . . . . . . . . . . . . . . . . . . . . . . . . . . . . . . . . . . . . . . . . . . . . . . . . . . . . . . . . . . . . . . . . . . . . . . . . . . . . . . . . . . . . . . . . . . . . . . . . . . . . . . . . . . . . . . . . . . . . . . . . . . . . . . . . . . . . . . . . . . . . . . . . . . . . . . . . . . . . . . . . . . . . . . . . . . . . . . . . . . . . . . . . . . . . . . . . . . . . . . . . . . . . . . . . . . . . . . . . . . . . . . . . . . . . . . . . . . . . . . . . . . . . . . . . . . . . . . . . . . . . . . . . . . . . . . . . . . . . . . . . . . . . . . . . . . . . . . .\n",
      "--------------------------------------------------------------------------------\n"
     ]
    },
    {
     "name": "stderr",
     "output_type": "stream",
     "text": [
      "Processing epoch: 05: 100%|██████████| 3638/3638 [11:21<00:00,  5.33it/s, loss=1.589]\n"
     ]
    },
    {
     "name": "stdout",
     "output_type": "stream",
     "text": [
      "--------------------------------------------------------------------------------\n",
      "    SOURCE: On recognising him, the fang of the snake Jealousy was instantly broken; because at the same moment my love for Celine sank under an extinguisher.\n",
      "    TARGET: Nel riconoscerlo la gelosia cessò, ma si spense pure il mio amore per Celina.\n",
      " PREDICTED: . . . . . . . . . . . . . . . . . . . . . . . . . . . . . . . . . . . . . . . . . . . . . . . . . . . . . . . . . . . . . . . . . . . . . . . . . . . . . . . . . . . . . . . . . . . . . . . . . . . . . . . . . . . . . . . . . . . . . . . . . . . . . . . . . . . . . . . . . . . . . . . . . . . . . . . . . . . . . . . . . . . . . . . . . . . . . . . . . . . . . . . . . . . . . . . . . . . . . . . . . . . . . . . . . . . . . . . . . . . . . . . . . . . . . . . . . . . . . . . . . . . . . . . . . . . . . . . . . . . . . . . . . . . . . . . . . . . . . . . . . . . . . . . . . . . . . . . . . . . . . . . . . . . . . . . . . . . . . . . . . . . . . . . . . . . . . . . . . . . . . . . . . . . . .\n",
      "--------------------------------------------------------------------------------\n",
      "    SOURCE: Gentlemen especially are often in request on such occasions; and Mr. Rochester is so talented and so lively in society, that I believe he is a general favourite: the ladies are very fond of him; though you would not think his appearance calculated to recommend him particularly in their eyes: but I suppose his acquirements and abilities, perhaps his wealth and good blood, make amends for any little fault of look.\"\n",
      "    TARGET: In quelle riunioni i più ricercati sono gli uomini, e il signor Rochester è così piacevole in conversazione, che tutti gli vogliono bene. È preferito dalle signore, benché non sia bello; ma l'ingegno, la ricchezza e la posizione fanno dimenticare il suo aspetto.\n",
      " PREDICTED: . . . . . . . . . . . . . . . . . . . . . . . . . . . . . . . . . . . . . . . . . . . . . . . . . . . . . . . . . . . . . . . . . . . . . . . . . . . . . . . . . . . . . . . . . . . . . . . . . . . . . . . . . . . . . . . . . . . . . . . . . . . . . . . . . . . . . . . . . . . . . . . . . . . . . . . . . . . . . . . . . . . . . . . . . . . . . . . . . . . . . . . . . . . . . . . . . . . . . . . . . . . . . . . . . . . . . . . . . . . . . . . . . . . . . . . . . . . . . . . . . . . . . . . . . . . . . . . . . . . . . . . . . . . . . . . . . . . . . . . . . . . . . . . . . . . . . . . . . . . . . . . . . . . . . . . . . . . . . . . . . . . . . . . . . . . . . . . . . . . . . . . . . . . . .\n",
      "--------------------------------------------------------------------------------\n"
     ]
    },
    {
     "name": "stderr",
     "output_type": "stream",
     "text": [
      "Processing epoch: 06: 100%|██████████| 3638/3638 [11:23<00:00,  5.32it/s, loss=1.473]\n"
     ]
    },
    {
     "name": "stdout",
     "output_type": "stream",
     "text": [
      "--------------------------------------------------------------------------------\n",
      "    SOURCE: This sounded promising, certainly: Alice turned and came back again.\n",
      "    TARGET: La chiamata prometteva qualche cosa: Alice si fece innanzi.\n",
      " PREDICTED: . . . . . . . . . . . . . . . . . . . . . . . . . . . . . . . . . . . . . . . . . . . . . . . . . . . . . . . . . . . . . . . . . . . . . . . . . . . . . . . . . . . . . . . . . . . . . . . . . . . . . . . . . . . . . . . . . . . . . . . . . . . . . . . . . . . . . . . . . . . . . . . . . . . . . . . . . . . . . . . . . . . . . . . . . . . . . . . . . . . . . . . . . . . . . . . . . . . . . . . . . . . . . . . . . . . . . . . . . . . . . . . . . . . . . . . . . . . . . . . . . . . . . . . . . . . . . . . . . . . . . . . . . . . . . . . . . . . . . . . . . . . . . . . . . . . . . . . . . . . . . . . . . . . . . . . . . . . . . . . . . . . . . . . . . . . . . . . . . . . . . . . . . . . . .\n",
      "--------------------------------------------------------------------------------\n",
      "    SOURCE: 'You know, Arkhip came to-day to say that in Prudnoye there are lots of elk and two bears,' said Chirikov.\n",
      "    TARGET: — E oggi c’è stato Archip e ha detto che nel Prudnoj c’è un branco di cervi e ci sono due orsi — disse cirikov.\n",
      " PREDICTED: . . . . . . . . . . . . . . . . . . . . . . . . . . . . . . . . . . . . . . . . . . . . . . . . . . . . . . . . . . . . . . . . . . . . . . . . . . . . . . . . . . . . . . . . . . . . . . . . . . . . . . . . . . . . . . . . . . . . . . . . . . . . . . . . . . . . . . . . . . . . . . . . . . . . . . . . . . . . . . . . . . . . . . . . . . . . . . . . . . . . . . . . . . . . . . . . . . . . . . . . . . . . . . . . . . . . . . . . . . . . . . . . . . . . . . . . . . . . . . . . . . . . . . . . . . . . . . . . . . . . . . . . . . . . . . . . . . . . . . . . . . . . . . . . . . . . . . . . . . . . . . . . . . . . . . . . . . . . . . . . . . . . . . . . . . . . . . . . . . . . . . . . . . . . .\n",
      "--------------------------------------------------------------------------------\n"
     ]
    },
    {
     "name": "stderr",
     "output_type": "stream",
     "text": [
      "Processing epoch: 07: 100%|██████████| 3638/3638 [11:22<00:00,  5.33it/s, loss=1.362]\n"
     ]
    },
    {
     "name": "stdout",
     "output_type": "stream",
     "text": [
      "--------------------------------------------------------------------------------\n",
      "    SOURCE: It was an inexpressible joy to me, which any one will believe, that I was thus delivered, as I esteemed it, from such a miserable and almost hopeless condition as I was in; and I immediately offered all I had to the captain of the ship, as a return for my deliverance; but he generously told me he would take nothing from me, but that all I had should be delivered safe to me when I came to the Brazils. “For,” says he, “I have saved your life on no other terms than I would be glad to be saved myself: and it may, one time or other, be my lot to be taken up in the same condition.\n",
      "    TARGET: È inesprimibile la gioia ch’io provai, ed ognuno me lo crederà, al vedermi in tal guisa liberato da una condizione così trista, e ch’io metteva omai per disperata. Offersi immediatamente quanto io possedeva al capitano del vascello in ricompensa della mia liberazione; ma egli generosamente rispose, che non avrebbe ricevuto alcuna ricompensa da me, e che quanto io aveva portato a bordo, mi sarebbe consegnato libero d’ogni aggravio, appena saremmo arrivati al Brasile. — «Perchè, egli diceva, ho salvata la vostra vita in que’ termini onde mi piacerebbe veder salvata la mia; una volta o l’altra il mio destino può condurmi alla medesima condizione.\n",
      " PREDICTED: — — — — — — — — — — — — — — — — — — — — — — — — — — — — — — — — — — — — — — — — — — — — — — — — — — — — — — — — — — — — — — — — — — — — — — — — — — — — — — — — — — — — — — — — — — — — — — — — — — — — — — — — — — — — — — — — — — — — — — — — — — — — — — — — — — — — — — — — — — — — — — — — — — — — — — — — — — — — ! — — — — — — ! — — — — ! — ! — — — Ah — ! — ! — ! — Ah — ! — ! — Ah — Ah — — — Ah — Ah — — — — Ah — Ah — — — Ah — Ah — — — — Ah — Ah — — — Ah — Ah — Ah — — Ah — Ah — Ah — Ah — Ah — Ah — Ah — Ah — Ah — Ah — Ah — Ah — Ah — Ah — Ah — Ah — Ah — Ah — Ah — Ah — Ah — Ah — Ah — Ah — Ah — — — Ah — Ah — Ah — Ah — Ah — Ah — Ah — — — Ah — Ah — Ah — Ah — Ah — Ah — — Ah — Ah — Ah — Ah — Ah — Ah — Ah — Ah — Ah — — — Ah — Ah — Ah — Ah — Ah — — — Ah — Ah — Ah — Ah — Ah\n",
      "--------------------------------------------------------------------------------\n",
      "    SOURCE: I really saw in him a tyrant, a murderer.\n",
      "    TARGET: Io vedevo realmente in lui un assassino, un tiranno.\n",
      " PREDICTED: — — — — — — — — — — — — — — — — — — — — — — — — — — — — — — — — — — — — — — — — — — — — — — — — — — — — — — — — — — — — — — — — — — — — — — — — — — — — — — — — — — — — — — — — — — — — — — — — — — — — — — — — — — — — — — — — — — — — — — — — — — — — — — — — — — — — — — — — — — — — — — — — — — — — — — — — — — — — ! — — — — — — ! — — — — ! — ! — — — Ah — ! — ! — ! — Ah — ! — ! — Ah — Ah — — — Ah — Ah — — — — Ah — Ah — — — Ah — Ah — — — — Ah — Ah — — — Ah — Ah — Ah — — Ah — Ah — Ah — Ah — Ah — Ah — Ah — Ah — Ah — Ah — Ah — Ah — Ah — Ah — Ah — Ah — Ah — Ah — Ah — Ah — Ah — Ah — Ah — Ah — Ah — — — Ah — Ah — Ah — Ah — Ah — Ah — Ah — — — Ah — Ah — Ah — Ah — Ah — Ah — — Ah — Ah — Ah — Ah — Ah — Ah — Ah — Ah — Ah — — — Ah — Ah — Ah — Ah — Ah — — — Ah — Ah — Ah — Ah — Ah\n",
      "--------------------------------------------------------------------------------\n"
     ]
    },
    {
     "name": "stderr",
     "output_type": "stream",
     "text": [
      "Processing epoch: 08: 100%|██████████| 3638/3638 [11:23<00:00,  5.32it/s, loss=1.372]\n"
     ]
    },
    {
     "name": "stdout",
     "output_type": "stream",
     "text": [
      "--------------------------------------------------------------------------------\n",
      "    SOURCE: 'He said that he suffers on your account and on his own.\n",
      "    TARGET: — Ha detto che soffre per te e per sé.\n",
      " PREDICTED: — — — — — — — — — — — — — — — — — — — — — — — — — — — — — — — — — — — — — — — — — — — — — — — — — — — — — — — — — — — — — — — — — — — — — — — — — — — — — — — — — — — — — — — — — — — — — — — — — — — — — — — — — — — — — — — — — — — — — — — — — — — — — — — — — — — — — — — — — — . — . — — — — — — — — — . — . — . — . — . — . — . — . — . — . — . — . — . — . — . — . — . — . — . — . — . — . — ? — . — . — ? — . — . — ? — ? — . — ? — ? — . — . — ? — ? — . — — ? — ? — . — . — ? — . — . — . — ? — ? — — . — ? — ? — ? — . — ? — ? — ? — . — ? — ? — ? — . — . — — — — ? — — . — ? — ? — ? — ? — . — ? — ? — ? — . — . — . — ? — . — . — . — . — . — ? — ? — ? — . — — — . — . — ? — ? — ? — . — . — . — ? — . — .\n",
      "--------------------------------------------------------------------------------\n",
      "    SOURCE: He is a saint,' said she. 'Uncover, yes, uncover your face!' she went on angrily.\n",
      "    TARGET: È un santo — ella disse. — Ma scopri, scopri il viso — prese a dire con rabbia. — Aleksej Aleksandrovic, scoprigli il viso.\n",
      " PREDICTED: — — — — — — — — — — — — — — — — — — — — — — — — — — — — — — — — — — — — — — — — — — — — — — — — — — — — — — — — — — — — — — — — — — — — — — — — — — — — — — — — — — — — — — — — — — — — — — — — — — — — — — — — — — — — — — — — — — — — — — — — — — — — — — — — — — — — — — — — — — . — . — — — — — — — — — . — . — . — . — . — . — . — . — . — . — . — . — . — . — . — . — . — . — . — . — . — . — ? — . — . — ? — . — . — ? — ? — . — ? — ? — . — . — ? — ? — . — — ? — ? — . — . — ? — . — . — . — ? — ? — — . — ? — ? — ? — . — ? — ? — ? — . — ? — ? — ? — . — . — — — — ? — — . — ? — ? — ? — ? — . — ? — ? — ? — . — . — . — ? — . — . — . — . — . — ? — ? — ? — . — — — . — . — ? — ? — ? — . — . — . — ? — . — .\n",
      "--------------------------------------------------------------------------------\n"
     ]
    },
    {
     "name": "stderr",
     "output_type": "stream",
     "text": [
      "Processing epoch: 09: 100%|██████████| 3638/3638 [11:20<00:00,  5.35it/s, loss=1.443]\n"
     ]
    },
    {
     "name": "stdout",
     "output_type": "stream",
     "text": [
      "--------------------------------------------------------------------------------\n",
      "    SOURCE: When all was finished, I thought Moor House as complete a model of bright modest snugness within, as it was, at this season, a specimen of wintry waste and desert dreariness without. The eventful Thursday at length came.\n",
      "    TARGET: Nei corridoi avevo steso delle tele, avevo coperto la scala di tappeti e, quando tutto fu terminato, Moor-House all'interno era un vero modello di comodità senza fasto, mentre di fuori aveva sempre l'aspetto di una casa fredda e abbandonata, specialmente in quella stagione.\n",
      " PREDICTED: — — — — — — — — — — — — — — — — — — — — — — — — — — — — — — — — — — — — — — — — — — — — — — — — — — — — — — — — — — — — — — — — — — — — — — — — — — — — — — — — — — — — — — — — — — — — — — — — — — — — — — — — — — — — — — — — — — — — — — — — — — — — — — — — — — — — — — — — — — — — — — — — — — — — — — — — — — — — — — — — — — — — — — — — — — — — — — ? — — — — ? — ? — ? — ? — ? — ? — ? — ? — — ? — ? — ? — ? — ? — ? — ? — ? — ? — ? — ? — ? — ? — ? — ? — ? — ? — ? — ? — ? — ? — ? — ? — ? — ? — ? — ? — ? — ? — ? — ? — ? — ? — ? — ? — ? — ? — ? — ? — ? — — — ? — ? — ? — ? — ? — ? — ? — ? — ? — ? — ? — ? — ? — ? — ? — ? — ? — ? — ? — ? — ? — ? — ? — ? — ? — ? — ? — ? — ? — ? — ? — ? — ? — ? — ? — ?\n",
      "--------------------------------------------------------------------------------\n",
      "    SOURCE: The attendant, an old man, helped him off with his overcoat, recognized him and, addressing him as 'Your Excellency,' suggested that he need not take a ticket for his coat, but should merely call for 'Theodore' when he wanted it.\n",
      "    TARGET: La maschera, un vecchietto, tolse la pelliccia a Vronskij e, riconosciutolo, lo chiamò “eccellenza” e gli propose di non prendere il biglietto, ma di chiamare semplicemente Fëdor.\n",
      " PREDICTED: — — — — — — — — — — — — — — — — — — — — — — — — — — — — — — — — — — — — — — — — — — — — — — — — — — — — — — — — — — — — — — — — — — — — — — — — — — — — — — — — — — — — — — — — — — — — — — — — — — — — — — — — — — — — — — — — — — — — — — — — — — — — — — — — — — — — — — — — — — — — — — — — — — — — — — — — — — — — — — — — — — — — — — — — — — — — — — ? — — — — ? — ? — ? — ? — ? — ? — ? — ? — — ? — ? — ? — ? — ? — ? — ? — ? — ? — ? — ? — ? — ? — ? — ? — ? — ? — ? — ? — ? — ? — ? — ? — ? — ? — ? — ? — ? — ? — ? — ? — ? — ? — ? — ? — ? — ? — ? — ? — ? — — — ? — ? — ? — ? — ? — ? — ? — ? — ? — ? — ? — ? — ? — ? — ? — ? — ? — ? — ? — ? — ? — ? — ? — ? — ? — ? — ? — ? — ? — ? — ? — ? — ? — ? — ? — ?\n",
      "--------------------------------------------------------------------------------\n"
     ]
    },
    {
     "name": "stderr",
     "output_type": "stream",
     "text": [
      "Processing epoch: 10: 100%|██████████| 3638/3638 [11:22<00:00,  5.33it/s, loss=1.368]\n"
     ]
    },
    {
     "name": "stdout",
     "output_type": "stream",
     "text": [
      "--------------------------------------------------------------------------------\n",
      "    SOURCE: I took my bottle out of my pocket and gave it him, making signs that he should drink, which he did; and I gave him a piece of bread, which he ate.\n",
      "    TARGET: Toltomi di tasca il mio fiaschetto di rum, gliene diedi alcun poco pregandolo a cenni che ne bevesse; e così fece e mangiò un pezzo di pane che parimente gli offersi.\n",
      " PREDICTED: — — — — — — — — — — — — — — — — — — — — — — — — — — — — — — — — — — — — — — — — — — — — — — — — — — — — — — — — — — — — — — — — — — — — — — — — — — — — — — — — — — — — — — — — — — — — — — — — — — — — — — — — — — — — — — — — — — — — — — — — — — — — — — — — — — — — — — — — — — — — — — — — — — — — — — — — — — — ! — ! — ! — ! — ! — ! — ! — ! — ! — ! — ! — ! — ! — ! — ! — ! — ! — ! — ! — ! — ! — ! — ! — ! — ! — ! — ! — ! — ! — ! — ! — ! — ! — ! — ! — ! — ! — ! — ! — ! — ! — ! — ! — ! — ! — ! — ! — ! — ! — ! — ! — ! — ! — ! — ! — ! — ! — ! — ! — ! — ! — ! — ! — ! — ! — ! — ! — ! — ! — ! — ! — ! — ! — ! — ! — ! — ! — ! — ! — ! — ! — ! — ! — ! — ! — ! — ! — ! — ! — ! — ! — ! — ! — ! — ! — ! — ! —\n",
      "--------------------------------------------------------------------------------\n",
      "    SOURCE: 'Yes,' she replied.\n",
      "    TARGET: — Sì — rispose lei.\n",
      " PREDICTED: — — — — — — — — — — — — — — — — — — — — — — — — — — — — — — — — — — — — — — — — — — — — — — — — — — — — — — — — — — — — — — — — — — — — — — — — — — — — — — — — — — — — — — — — — — — — — — — — — — — — — — — — — — — — — — — — — — — — — — — — — — — — — — — — — — — — — — — — — — — — — — — — — — — — — — — — — — — — ? — ? — ? — ? — ? — ? — ? — ? — ? — ? — ? — ? — ? — ? — ? — ? — ? — ? — ? — ? — ? — ? — ? — ? — ? — ? — ? — ? — ? — ? — ? — ? — ? — ? — ? — ? — ? — ? — ? — ? — ? — ? — ? — ? — ? — ? — ? — ? — ? — ? — ? — ? — ? — ? — ? — ? — ? — ? — ? — ? — ? — ? — ? — ? — ? — ? — ? — ? — ? — ? — ? — ? — ? — ? — ? — ? — ? — ? — ? — ? — ? — ? — ? — ? — ? — ? — ? — ? — ? — ? — ? — ? — ? — ? — ? — ? — ?\n",
      "--------------------------------------------------------------------------------\n"
     ]
    },
    {
     "name": "stderr",
     "output_type": "stream",
     "text": [
      "Processing epoch: 11: 100%|██████████| 3638/3638 [11:22<00:00,  5.33it/s, loss=1.408]\n"
     ]
    },
    {
     "name": "stdout",
     "output_type": "stream",
     "text": [
      "--------------------------------------------------------------------------------\n",
      "    SOURCE: The waves of the sea of unconscious life were beginning to close over his head when all at once he felt as if he had received a violent electric shock. He started so violently that his whole body was thrown upwards on the springs of the sofa, and leaning on his hands he rose to his knees in fear.\n",
      "    TARGET: Le onde della vita subcosciente avevano già cominciato ad affluirgli alla testa. Ma a un tratto, proprio come se una fortissima scarica elettrica si fosse scaraventata su di lui, rabbrividì in modo che tutto il corpo sussultò sulle molle del divano e, poggiatosi con le mani, saltò su in ginocchio, spaventato.\n",
      " PREDICTED: ? ? ? ? ? ? ? ? ? ? ? ? ? ? ? ? ? ? ? ? ? ? ? ? ? ? ? ? ? ? ? ? ? ? ? ? ? ? ? ? ? ? ? ? ? ? ? ? ? ? ? ? ? ? ? ? ? ? ? ? ? ? ? ? ? ? ? ? ? ? ? ? ? ? ? ? ? ? ? ? ? ? ? ? ? ? ? ? ? ? ? ? ? ? ? ? ? ? ? ? ? ? ? ? ? ? ? ? ? ? ? ? ? ? ? ? ? ? ? ? ? ? ? ? ? ? ? ? ? ? ? ? ? ? ? ? ? ? ? ? ? ? ? ? ? ? ? ? ? ? ? ? ? ? ? ? ? ? ? ? ? ? ? ? ? ? ? ? ? ? ? ? ? ? ? ? ? ? ? ? ? ? ? ? ? ? ? ? ? ? ? ? ? ? ? ? ? ? ? ? ? ? ? ? ? ? ? ? ? ? ? ? ? ? ? ? ? ? ? ? ? ? ? ? ? ? ? ? ? ? ? ? ? ? ? ? ? ? ? ? ? ? ? ? ? ? ? ? ? ? ? ? ? ? ? ? ? ? ? ? ? ? ? ? ? ? ? ? ? ? ? ? ? ? ? ? ? ? ? ? ? ? ? ? ? ? ? ? ? ? ? ? ? ? ? ? ? ? ? ? ? ? ? ? ? ? ? ? ? ? ? ? ? ? ? ? ? ? ? ? ? ? ? ? ? ? ? ? ? ? ? ? ? ? ? ? ? ? ? ? ? ? ? ? ? ? ? ? ?\n",
      "--------------------------------------------------------------------------------\n",
      "    SOURCE: 'Yes, I must go to the railway station, and if I don't find him, I must go there and expose him.'\n",
      "    TARGET: “Sì, bisogna andare alla stazione ferroviaria, e se no, allora, andare là e coglierlo sul fatto”.\n",
      " PREDICTED: ? ? ? ? ? ? ? ? ? ? ? ? ? ? ? ? ? ? ? ? ? ? ? ? ? ? ? ? ? ? ? ? ? ? ? ? ? ? ? ? ? ? ? ? ? ? ? ? ? ? ? ? ? ? ? ? ? ? ? ? ? ? ? ? ? ? ? ? ? ? ? ? ? ? ? ? ? ? ? ? ? ? ? ? ? ? ? ? ? ? ? ? ? ? ? ? ? ? ? ? ? ? ? ? ? ? ? ? ? ? ? ? ? ? ? ? ? ? ? ? ? ? ? ? ? ? ? ? ? ? ? ? ? ? ? ? ? ? ? ? ? ? ? ? ? ? ? ? ? ? ? ? ? ? ? ? ? ? ? ? ? ? ? ? ? ? ? ? ? ? ? ? ? ? ? ? ? ? ? ? ? ? ? ? ? ? ? ? ? ? ? ? ? ? ? ? ? ? ? ? ? ? ? ? ? ? ? ? ? ? ? ? ? ? ? ? ? ? ? ? ? ? ? ? ? ? ? ? ? ? ? ? ? ? ? ? ? ? ? ? ? ? ? ? ? ? ? ? ? ? ? ? ? ? ? ? ? ? ? ? ? ? ? ? ? ? ? ? ? ? ? ? ? ? ? ? ? ? ? ? ? ? ? ? ? ? ? ? ? ? ? ? ? ? ? ? ? ? ? ? ? ? ? ? ? ? ? ? ? ? ? ? ? ? ? ? ? ? ? ? ? ? ? ? ? ? ? ? ? ? ? ? ? ? ? ? ? ? ? ? ? ? ? ? ? ? ? ? ?\n",
      "--------------------------------------------------------------------------------\n"
     ]
    },
    {
     "name": "stderr",
     "output_type": "stream",
     "text": [
      "Processing epoch: 12: 100%|██████████| 3638/3638 [11:23<00:00,  5.33it/s, loss=1.380]\n"
     ]
    },
    {
     "name": "stdout",
     "output_type": "stream",
     "text": [
      "--------------------------------------------------------------------------------\n",
      "    SOURCE: \"Pass, Janet,\" said he, making room for me to cross the stile: \"go up home, and stay your weary little wandering feet at a friend's threshold.\"\n",
      "    TARGET: — Passate, Jane, — mi disse facendomi posto sulla scala, — tornate alla villa e posate il piedino errante e stanco sulla soglia amica.\n",
      " PREDICTED: : : : : : : : : : : : : : : : : : : : : : : : : : : : : : : : : : : : : : : : : : : : : : : : : : : : : : : : : : : : : : : : : : : : : : : : : : : : : : : : : : : : : : : : : : : : : : : : : : : : : : : : : : : : : : : : : : : : : : : : : : : : : : : : : : : : : : : : : : : : : : : : : : : : : : : : : : : : : : : : : : : : : : : : : : : : : : : una : : : : : una : una : : : una : una : : : : una : una : : : una : una : : : : una : una : : : una : una : una : : una : una : una : del una : una : una : del una : una : una : del una : una : una : del una : una : una : del una : una : una : del : una : una : una : del : una : una : una : del : una : una : una : del : del : una : una : una : del : del una : una : una : una : del : del : una : una : del : del : del : del una : del : una : del : del : del : del : del : del : del : del : del : del una : del :\n",
      "--------------------------------------------------------------------------------\n",
      "    SOURCE: Have we anything else to stay for?\" he inquired of Mr. Mason.\n",
      "    TARGET: Avete ancora qualche ragione che vi costringerà a rimanere? — domandò il procuratore al signor Mason.\n",
      " PREDICTED: : : : : : : : : : : : : : : : : : : : : : : : : : : : : : : : : : : : : : : : : : : : : : : : : : : : : : : : : : : : : : : : : : : : : : : : : : : : : : : : : : : : : : : : : : : : : : : : : : : : : : : : : : : : : : : : : : : : : : : : : : : : : : : : : : : : : : : : : : : : : : : : : : : : : : : : : : : : : : : : : : : : : : : : : : : : : : : una : : : : : una : una : : : una : una : : : : una : una : : : una : una : : : : una : una : : : una : una : una : : una : una : una : del una : una : una : del una : una : una : del una : una : una : del una : una : una : del una : una : una : del : una : una : una : del : una : una : una : del : una : una : una : del : del : una : una : una : del : del una : una : una : una : del : del : una : una : del : del : del : del una : del : una : del : del : del : del : del : del : del : del : del : del una : del :\n",
      "--------------------------------------------------------------------------------\n"
     ]
    },
    {
     "name": "stderr",
     "output_type": "stream",
     "text": [
      "Processing epoch: 13: 100%|██████████| 3638/3638 [11:20<00:00,  5.35it/s, loss=1.460]\n"
     ]
    },
    {
     "name": "stdout",
     "output_type": "stream",
     "text": [
      "--------------------------------------------------------------------------------\n",
      "    SOURCE: She was afraid of giving way to these delirious thoughts.\n",
      "    TARGET: Aveva paura di lasciarsi andare a questo vaneggiamento.\n",
      " PREDICTED: ! ! ! ! ! ! ! ! ! ! ! ! ! ! ! ! ! ! ! ! ! ! ! ! ! ! ! ! ! ! ! ! ! ! ! ! ! ! ! ! ! ! ! ! ! ! ! ! ! ! ! ! ! ! ! ! ! ! ! ! ! ! ! ! ! ! ! ! ! ! ! ! ! ! ! ! ! ! ! ! ! ! ! ! ! ! ! ! ! ! ! ! ! ! ! ! ! ! ! ! ! ! ! ! ! ! ! ! ! ! ! ! ! ! ! ! ! ! ! ! ! ! ! ! ! ! ! ! ! ! ! ! ! ! ! ! ! ! ! ! ! ! ! ! ! ! ! ! ! ! ! ! ! ! ! ! ! ! ! ! ! ! ! ! ! ! ! ! ! ! ! ! ! ! ! ! ! ! ! ! ! — ! — ! — ! — ! — ! — ! — ! — ! — ! — ! — ! — ! — ! — ! — ! — ! — ! — ! — ! — ! — ! — ! — ! — ! — ! — ! — ! — ! — ! — ! — ! — ! — ! — ! — ! — ! — ! — ! — ! — ! — ! — ! — ! — ! — ! — ! — ! — ! — ! — ! — ! — ! — ! — ! — ! — ! — ! — ! — ! — ! — ! — ! — ! — ! — ! — ! — ! — ! — ! — ! — ! — ! — ! — ! — ! — ! — ! — ! — ! — ! — ! — ! — ! — !\n",
      "--------------------------------------------------------------------------------\n",
      "    SOURCE: Mr. Rowland Rochester was not quite just to Mr. Edward; and perhaps he prejudiced his father against him.\n",
      "    TARGET: Il signor Rowland Rochester non era giusto col signor Edoardo, e aizzava anche il padre contro di lui.\n",
      " PREDICTED: ! ! ! ! ! ! ! ! ! ! ! ! ! ! ! ! ! ! ! ! ! ! ! ! ! ! ! ! ! ! ! ! ! ! ! ! ! ! ! ! ! ! ! ! ! ! ! ! ! ! ! ! ! ! ! ! ! ! ! ! ! ! ! ! ! ! ! ! ! ! ! ! ! ! ! ! ! ! ! ! ! ! ! ! ! ! ! ! ! ! ! ! ! ! ! ! ! ! ! ! ! ! ! ! ! ! ! ! ! ! ! ! ! ! ! ! ! ! ! ! ! ! ! ! ! ! ! ! ! ! ! ! ! ! ! ! ! ! ! ! ! ! ! ! ! ! ! ! ! ! ! ! ! ! ! ! ! ! ! ! ! ! ! ! ! ! ! ! ! ! ! ! ! ! ! ! ! ! ! ! ! — ! — ! — ! — ! — ! — ! — ! — ! — ! — ! — ! — ! — ! — ! — ! — ! — ! — ! — ! — ! — ! — ! — ! — ! — ! — ! — ! — ! — ! — ! — ! — ! — ! — ! — ! — ! — ! — ! — ! — ! — ! — ! — ! — ! — ! — ! — ! — ! — ! — ! — ! — ! — ! — ! — ! — ! — ! — ! — ! — ! — ! — ! — ! — ! — ! — ! — ! — ! — ! — ! — ! — ! — ! — ! — ! — ! — ! — ! — ! — ! — ! — ! — ! — !\n",
      "--------------------------------------------------------------------------------\n"
     ]
    },
    {
     "name": "stderr",
     "output_type": "stream",
     "text": [
      "Processing epoch: 14: 100%|██████████| 3638/3638 [11:20<00:00,  5.35it/s, loss=1.351]\n"
     ]
    },
    {
     "name": "stdout",
     "output_type": "stream",
     "text": [
      "--------------------------------------------------------------------------------\n",
      "    SOURCE: Veslovsky, come here!'\n",
      "    TARGET: Veslovskij, vieni qua.\n",
      " PREDICTED: ? ? ? ? ? ? ? ? ? ? ? ? ? ? ? ? ? ? ? ? ? ? ? ? ? ? ? ? ? ? ? ? ? ? ? ? ? ? ? ? ? ? ? ? ? ? ? ? ? ? ? ? ? ? ? ? ? ? ? ? ? ? ? ? ? ? ? ? ? ? ? ? ? ? ? ? ? ? ? ? ? ? ? ? ? ? ? ? ? ? ? ? ? ? ? ? ? ? ? ? ? ? ? ? ? ? ? ? ? ? ? ? ? ? ? ? ? ? ? ? ? ? ? ? ? ? ? ? ? ? ? ? ? ? ? ? ? ? ? ? ? ? ? ? ? ? ? ? ? ? ? ? ? ? ? ? ? ? ? ? ? ? ? ? ? ? ? ? ? ? ? ? ? ? ? ? ? ? ? ? ? ? ? ? ? ? ? ? ? ? ? ? ? ? ? ? ? ? ? ? ? ? ? ? ? ? ? ? ? ? ? ? ? ? ? ? ? ? ? ? ? ? ? ? ? ? ? ? ? ? ? ? ? ? ? ? ? ? ? ? ? ? ? ? ? ? ? ? ? ? ? ? ? ? ? ? ? ? ? ? ? ? ? ? ? ? ? ? ? ? ? ? ? ? ? ? ? ? ? ? ? ? ? ? ? ? ? ? ? ? ? ? ? ? ? ? ? ? ? ? ? ? ? ? ? ? ? ? ? ? ? ? ? ? ? ? ? ? ? ? ? ? ? ? ? ? ? ? ? ? ? ? ? ? ? ? ? ? ? ? ? ? ? ? ? ? ? ? ?\n",
      "--------------------------------------------------------------------------------\n",
      "    SOURCE: Kitty smiled and remained silent.\n",
      "    TARGET: Kitty sorrideva in silenzio.\n",
      " PREDICTED: ? ? ? ? ? ? ? ? ? ? ? ? ? ? ? ? ? ? ? ? ? ? ? ? ? ? ? ? ? ? ? ? ? ? ? ? ? ? ? ? ? ? ? ? ? ? ? ? ? ? ? ? ? ? ? ? ? ? ? ? ? ? ? ? ? ? ? ? ? ? ? ? ? ? ? ? ? ? ? ? ? ? ? ? ? ? ? ? ? ? ? ? ? ? ? ? ? ? ? ? ? ? ? ? ? ? ? ? ? ? ? ? ? ? ? ? ? ? ? ? ? ? ? ? ? ? ? ? ? ? ? ? ? ? ? ? ? ? ? ? ? ? ? ? ? ? ? ? ? ? ? ? ? ? ? ? ? ? ? ? ? ? ? ? ? ? ? ? ? ? ? ? ? ? ? ? ? ? ? ? ? ? ? ? ? ? ? ? ? ? ? ? ? ? ? ? ? ? ? ? ? ? ? ? ? ? ? ? ? ? ? ? ? ? ? ? ? ? ? ? ? ? ? ? ? ? ? ? ? ? ? ? ? ? ? ? ? ? ? ? ? ? ? ? ? ? ? ? ? ? ? ? ? ? ? ? ? ? ? ? ? ? ? ? ? ? ? ? ? ? ? ? ? ? ? ? ? ? ? ? ? ? ? ? ? ? ? ? ? ? ? ? ? ? ? ? ? ? ? ? ? ? ? ? ? ? ? ? ? ? ? ? ? ? ? ? ? ? ? ? ? ? ? ? ? ? ? ? ? ? ? ? ? ? ? ? ? ? ? ? ? ? ? ? ? ? ? ? ?\n",
      "--------------------------------------------------------------------------------\n"
     ]
    },
    {
     "name": "stderr",
     "output_type": "stream",
     "text": [
      "Processing epoch: 15: 100%|██████████| 3638/3638 [11:21<00:00,  5.34it/s, loss=1.495]\n"
     ]
    },
    {
     "name": "stdout",
     "output_type": "stream",
     "text": [
      "--------------------------------------------------------------------------------\n",
      "    SOURCE: When she got up, the previous day appeared in her memory as in a fog.\n",
      "    TARGET: Quando si fu alzata, le venne in mente, come in una nebbia, la giornata precedente.\n",
      " PREDICTED: — — — — — — — — — — — — — — — — — — — — — — — — — — — — — — — — — — — — — — — — — — — — — — — — — — — — — — — — — — — — — — — — — — — — — — — — — — — — — — — — — — — — — — — — — — — — — — — — — — — — — — — — — — — — — — — — — — — — — — — — — — — — — — — — — — — — — — — — — — — — — — — — — — — — — — — — — — — — — — — — — — — — — — — — — — — — — — . — — — — . — . — . — . — . — . — . — . — . — . — . — . — . — . — . — . — . — . — . — . — . — . — . — . — . — . — . — . — . — . — . — . — . — . — . — . — . — . — . — . — . — . — . — . — . — . — . — . — . — . — . — . — . — . — . — . — . — . — . — . — . — . — . — . — . — . — . — . — . — . — . — . — . — . — . — . — . — . — . — . — . — . — . — . — . —\n",
      "--------------------------------------------------------------------------------\n",
      "    SOURCE: 'Well, everybody is going. One must help the Serbs.\n",
      "    TARGET: — Ma cosa vuoi mai, vanno tutti, bisogna pure aiutare i serbi.\n",
      " PREDICTED: — — — — — — — — — — — — — — — — — — — — — — — — — — — — — — — — — — — — — — — — — — — — — — — — — — — — — — — — — — — — — — — — — — — — — — — — — — — — — — — — — — — — — — — — — — — — — — — — — — — — — — — — — — — — — — — — — — — — — — — — — — — — — — — — — — — — — — — — — — — — — — — — — — — — — — — — — — — — — — — — — — — — — — — — — — — — — — . — — — — . — . — . — . — . — . — . — . — . — . — . — . — . — . — . — . — . — . — . — . — . — . — . — . — . — . — . — . — . — . — . — . — . — . — . — . — . — . — . — . — . — . — . — . — . — . — . — . — . — . — . — . — . — . — . — . — . — . — . — . — . — . — . — . — . — . — . — . — . — . — . — . — . — . — . — . — . — . — . — . — . — . — . — . — . —\n",
      "--------------------------------------------------------------------------------\n"
     ]
    },
    {
     "name": "stderr",
     "output_type": "stream",
     "text": [
      "Processing epoch: 16: 100%|██████████| 3638/3638 [11:21<00:00,  5.34it/s, loss=1.404]\n"
     ]
    },
    {
     "name": "stdout",
     "output_type": "stream",
     "text": [
      "--------------------------------------------------------------------------------\n",
      "    SOURCE: SEVENTEEN OFFICERS IN ALL HAD ENTERED for the steeplechase.\n",
      "    TARGET: Gli ufficiali che prendevano parte a questa corsa erano in tutto diciassette.\n",
      " PREDICTED: ? ? ? ? ? ? ? ? ? ? ? ? ? ? ? ? ? ? ? ? ? ? ? ? ? ? ? ? ? ? ? ? ? ? ? ? ? ? ? ? ? ? ? ? ? ? ? ? ? ? ? ? ? ? ? ? ? ? ? ? ? ? ? ? ? ? ? ? ? ? ? ? ? ? ? ? ? ? ? ? ? ? ? ? ? ? ? ? ? ? ? ? ? ? ? ? ? ? ? ? ? ? ? ? ? ? ? ? ? ? ? ? ? ? ? ? ? ? ? ? ? ? ? ? ? ? ? ? ? ? ? ? ? ? ? ? ? ? ? ? ? ? ? ? ? ? ? ? ? ? ? ? ? ? ? ? ? ? ? ? ? ? ? ? ? ? ? ? ? ? ? ? ? ? ? ? ? ? ? ? ? ? ? ? ? ? ? ? ? ? ? ? ? ? ? ? ? ? ? ? ? ? ? ? ? ? ? ? ? ? ? ? ? ? ? ? ? ? ? ? ? ? ? ? ? ? ? ? ? ? ? ? ? ? ? ? ? ? ? ? ? ? ? ? ? ? ? ? ? ? ? ? ? ? ? ? ? ? ? ? ? ? ? ? ? ? ? ? ? ? ? ? ? ? ? ? ? ? ? ? ? ? ? ? ? ? ? ? ? ? ? ? ? ? ? ? ? ? ? ? ? ? ? ? ? ? ? ? ? ? ? ? ? ? ? ? ? ? ? ? ? ? ? ? ? ? ? ? ? ? ? ? ? ? ? ? ? ? ? ? ? ? ? ? ? ? ? ? ?\n",
      "--------------------------------------------------------------------------------\n",
      "    SOURCE: 'He is such a rascal! I told him not to!\n",
      "    TARGET: — È un volpone quello! io glielo dicevo e lui, no.\n",
      " PREDICTED: ? ? ? ? ? ? ? ? ? ? ? ? ? ? ? ? ? ? ? ? ? ? ? ? ? ? ? ? ? ? ? ? ? ? ? ? ? ? ? ? ? ? ? ? ? ? ? ? ? ? ? ? ? ? ? ? ? ? ? ? ? ? ? ? ? ? ? ? ? ? ? ? ? ? ? ? ? ? ? ? ? ? ? ? ? ? ? ? ? ? ? ? ? ? ? ? ? ? ? ? ? ? ? ? ? ? ? ? ? ? ? ? ? ? ? ? ? ? ? ? ? ? ? ? ? ? ? ? ? ? ? ? ? ? ? ? ? ? ? ? ? ? ? ? ? ? ? ? ? ? ? ? ? ? ? ? ? ? ? ? ? ? ? ? ? ? ? ? ? ? ? ? ? ? ? ? ? ? ? ? ? ? ? ? ? ? ? ? ? ? ? ? ? ? ? ? ? ? ? ? ? ? ? ? ? ? ? ? ? ? ? ? ? ? ? ? ? ? ? ? ? ? ? ? ? ? ? ? ? ? ? ? ? ? ? ? ? ? ? ? ? ? ? ? ? ? ? ? ? ? ? ? ? ? ? ? ? ? ? ? ? ? ? ? ? ? ? ? ? ? ? ? ? ? ? ? ? ? ? ? ? ? ? ? ? ? ? ? ? ? ? ? ? ? ? ? ? ? ? ? ? ? ? ? ? ? ? ? ? ? ? ? ? ? ? ? ? ? ? ? ? ? ? ? ? ? ? ? ? ? ? ? ? ? ? ? ? ? ? ? ? ? ? ? ? ? ? ? ?\n",
      "--------------------------------------------------------------------------------\n"
     ]
    },
    {
     "name": "stderr",
     "output_type": "stream",
     "text": [
      "Processing epoch: 17: 100%|██████████| 3638/3638 [11:02<00:00,  5.49it/s, loss=1.354]\n"
     ]
    },
    {
     "name": "stdout",
     "output_type": "stream",
     "text": [
      "--------------------------------------------------------------------------------\n",
      "    SOURCE: 'Perhaps not,' Alice cautiously replied: 'but I know I have to beat time when I learn music.'\n",
      "    TARGET: — Forse no, — rispose prudentemente Alice; — ma so che debbo battere il tempo quando studio la musica.\n",
      " PREDICTED: . . . . . . . . . . . . . . . . . . . . . . . . . . . . . . . . . . . . . . . . . . . . . . . . . . . . . . . . . . . . . . . . . . . . . . . . . . . . . . . . . . . . . . . . . . . . . . . . . . . . . . . . . . . . . . . . . . . . . . . . . . . . . . . . . . . . . . . . . . . . . . . . . . . . . . . . . . . . . . . . . . . . . . . . . . . . . . . . . . . . . . . . . . . . . . . . . . . . . . . . . . . . . . . . . . . . . . . . . . . . . . . . . . . . . . . . . . . . . . . . . . . . . . . . . . . . . . . . . . . . . . . . . . . . . . . . . . . . . . . . . . . . . . . . . . . . . . . . . . . . . . . . . . . . . . . . . . . . . . . . . . . . . . . . . . . . . . . . . . . . . . . . . . . . .\n",
      "--------------------------------------------------------------------------------\n",
      "    SOURCE: You should rather ask the name of the governess--the nature of the event which requires her appearance.\"\n",
      "    TARGET: \"Dovreste piuttosto domandarmi il nome dell’istitutrice e il fatto che ha motivato la ricerca di lei.\n",
      " PREDICTED: . . . . . . . . . . . . . . . . . . . . . . . . . . . . . . . . . . . . . . . . . . . . . . . . . . . . . . . . . . . . . . . . . . . . . . . . . . . . . . . . . . . . . . . . . . . . . . . . . . . . . . . . . . . . . . . . . . . . . . . . . . . . . . . . . . . . . . . . . . . . . . . . . . . . . . . . . . . . . . . . . . . . . . . . . . . . . . . . . . . . . . . . . . . . . . . . . . . . . . . . . . . . . . . . . . . . . . . . . . . . . . . . . . . . . . . . . . . . . . . . . . . . . . . . . . . . . . . . . . . . . . . . . . . . . . . . . . . . . . . . . . . . . . . . . . . . . . . . . . . . . . . . . . . . . . . . . . . . . . . . . . . . . . . . . . . . . . . . . . . . . . . . . . . . .\n",
      "--------------------------------------------------------------------------------\n"
     ]
    },
    {
     "name": "stderr",
     "output_type": "stream",
     "text": [
      "Processing epoch: 18: 100%|██████████| 3638/3638 [10:28<00:00,  5.79it/s, loss=1.446]\n"
     ]
    },
    {
     "name": "stdout",
     "output_type": "stream",
     "text": [
      "--------------------------------------------------------------------------------\n",
      "    SOURCE: \"Oh! didn't you?\" says Emily, coldly, in a tone which implies that she does not believe you.\n",
      "    TARGET: — Ah! sì! — dice Emilia, freddamente, con un tono che implica che ella non vi crede.\n",
      " PREDICTED: . . . . . . . . . . . . . . . . . . . . . . . . . . . . . . . . . . . . . . . . . . . . . . . . . . . . . . . . . . . . . . . . . . . . . . . . . . . . . . . . . . . . . . . . . . . . . . . . . . . . . . . . . . . . . . . . . . . . . . . . . . . . . . . . . . . . . . . . . . . . . . . . . . . . . . . . . . . . . . . . . . . . . . . . . . . . . . . . . . . . . . . . . . . . . . . . . . . . . . . . . . . . . . . . . . . . . . . . . . . . . . . . . . . . . . . . . . . . . . . . . . . . . . . . . . . . . . . . . . . . . . . . . . . . . . . . . . . . . . . . . . . . . . . . . . . . . . . . . . . . . . . . . . . . . . . . . . . . . . . . . . . . . . . . . . . . . . . . . . . . . . . . . . . . .\n",
      "--------------------------------------------------------------------------------\n",
      "    SOURCE: Anna was abashed by the attentively inquiring look Dolly bent upon her; Dolly, after Sviyazhsky's remark about the 'vehicle,' felt involuntarily ashamed of the ramshackle old calèche, in which Anna had taken a seat beside her.\n",
      "    TARGET: Anna, per quello sguardo attentamente interrogativo con cui la guardava Dolly, si era confusa; Dolly, per le parole di Svijazskij sul veicolo, aveva involontariamente cominciato a vergognarsi della vecchia vettura sdrucita nella quale Anna si era seduta con lei.\n",
      " PREDICTED: . . . . . . . . . . . . . . . . . . . . . . . . . . . . . . . . . . . . . . . . . . . . . . . . . . . . . . . . . . . . . . . . . . . . . . . . . . . . . . . . . . . . . . . . . . . . . . . . . . . . . . . . . . . . . . . . . . . . . . . . . . . . . . . . . . . . . . . . . . . . . . . . . . . . . . . . . . . . . . . . . . . . . . . . . . . . . . . . . . . . . . . . . . . . . . . . . . . . . . . . . . . . . . . . . . . . . . . . . . . . . . . . . . . . . . . . . . . . . . . . . . . . . . . . . . . . . . . . . . . . . . . . . . . . . . . . . . . . . . . . . . . . . . . . . . . . . . . . . . . . . . . . . . . . . . . . . . . . . . . . . . . . . . . . . . . . . . . . . . . . . . . . . . . . .\n",
      "--------------------------------------------------------------------------------\n"
     ]
    },
    {
     "name": "stderr",
     "output_type": "stream",
     "text": [
      "Processing epoch: 19: 100%|██████████| 3638/3638 [10:32<00:00,  5.75it/s, loss=1.393]\n"
     ]
    },
    {
     "name": "stdout",
     "output_type": "stream",
     "text": [
      "--------------------------------------------------------------------------------\n",
      "    SOURCE: The castle of Milan, built by Francesco Sforza, has made, and will make, more trouble for the house of Sforza than any other disorder in the state.\n",
      "    TARGET: Alla casa Sforzesca ha fatto e farà più guerra el castello di Milano, che vi edificò Francesco Sforza, che alcuno altro disordine di quello stato.\n",
      " PREDICTED: — — — — — . . . . . . . . . . . . . . . . . . . . . . . . . . . . . . . . . . . . . . . . . . . . . . . . . . . . . . . . . . . . . . — — — — — — — — — — — — — — — — — — — — — — — — — — — — — — — — — — — — — — — — — — — — — — . — . — . — . — . — . — . — . — . — . — . — . — . — . — . — . — . — . — . — . — . — . — . — . — . — . — . — . — . — . — . — . — . — . — . — . — . — . — . — . — . — . — . — . — . — . — . — . — . — . — . — . — . — . — . — . — . — . — . — . — . — . — . — . — . — . — . — . — . — . — . — . — . — . — . — . — . — . — . — . — . — . — . — . — . — . — . — . — . — . — . — . — . — . — . — . — . — . — . — . — . — . — . — . — . — . — . — . — . — . — . — . — . — . — . — . — . — . —\n",
      "--------------------------------------------------------------------------------\n",
      "    SOURCE: And I cannot see the least use that the greatest knowledge of the disputed points of religion, which have made such confusion in the world, would have been to us, if we could have obtained it.\n",
      "    TARGET: E da vero non so vedere di qual menomo vantaggio sarebbe stata a noi, quand’anche avessimo potuto conseguirla, una più ampia cognizione di controversi punti religiosi che hanno portata tanta confusione sopra la terra.\n",
      " PREDICTED: — — — — — . . . . . . . . . . . . . . . . . . . . . . . . . . . . . . . . . . . . . . . . . . . . . . . . . . . . . . . . . . . . . . — — — — — — — — — — — — — — — — — — — — — — — — — — — — — — — — — — — — — — — — — — — — — — . — . — . — . — . — . — . — . — . — . — . — . — . — . — . — . — . — . — . — . — . — . — . — . — . — . — . — . — . — . — . — . — . — . — . — . — . — . — . — . — . — . — . — . — . — . — . — . — . — . — . — . — . — . — . — . — . — . — . — . — . — . — . — . — . — . — . — . — . — . — . — . — . — . — . — . — . — . — . — . — . — . — . — . — . — . — . — . — . — . — . — . — . — . — . — . — . — . — . — . — . — . — . — . — . — . — . — . — . — . — . — . — . — . — . — . — . — . —\n",
      "--------------------------------------------------------------------------------\n"
     ]
    },
    {
     "name": "stderr",
     "output_type": "stream",
     "text": [
      "Processing epoch: 20: 100%|██████████| 3638/3638 [10:35<00:00,  5.72it/s, loss=1.353]\n"
     ]
    },
    {
     "name": "stdout",
     "output_type": "stream",
     "text": [
      "--------------------------------------------------------------------------------\n",
      "    SOURCE: 'Why – serves you right?\n",
      "    TARGET: — Come, vi sta bene?\n",
      " PREDICTED: — — — — — — — — — — — — — — — — — — — — — — — — — — — — — — — — — — — — — — — — — — — — — — — — — — — — — — — — — — — — — — — — — — — — — — — — — — — — — — — — — — — — — — — — — — — — — — — — — — — — — — — — — — — — — — — — — — — — — — — — — — — — — — — — — — — — — — — — — — — — — — — — — — — — — — — — — — — — — — — — — — — — — — — — — — — — — — — . — . — . — . — . — . — . — . — . — . — . — . — . — . — . — . — . — . — . — . — . — . — . — . — . — . — . — . — . — . — . — . — . — . — . — . — . — . — . — . — . — . — . — . — . — . — . — . — . — . — . — . — . — . — . — . — . — . — . — . — . — . — . — . — . — . — . — . — . — . — . — . — . — . — . — . — . — . — . — . — . — . — . — . — . — . — . —\n",
      "--------------------------------------------------------------------------------\n",
      "    SOURCE: 'What are the Shcherbatskys doing?\n",
      "    TARGET: — Che fanno gli Šcerbackij?\n",
      " PREDICTED: — — — — — — — — — — — — — — — — — — — — — — — — — — — — — — — — — — — — — — — — — — — — — — — — — — — — — — — — — — — — — — — — — — — — — — — — — — — — — — — — — — — — — — — — — — — — — — — — — — — — — — — — — — — — — — — — — — — — — — — — — — — — — — — — — — — — — — — — — — — — — — — — — — — — — — — — — — — — — — — — — — — — — — — — — — — — — — — . — . — . — . — . — . — . — . — . — . — . — . — . — . — . — . — . — . — . — . — . — . — . — . — . — . — . — . — . — . — . — . — . — . — . — . — . — . — . — . — . — . — . — . — . — . — . — . — . — . — . — . — . — . — . — . — . — . — . — . — . — . — . — . — . — . — . — . — . — . — . — . — . — . — . — . — . — . — . — . — . — . — . — . — . — . — . —\n",
      "--------------------------------------------------------------------------------\n"
     ]
    },
    {
     "name": "stderr",
     "output_type": "stream",
     "text": [
      "Processing epoch: 21:   4%|▍         | 147/3638 [00:26<10:23,  5.60it/s, loss=1.353]\n"
     ]
    },
    {
     "ename": "KeyboardInterrupt",
     "evalue": "",
     "output_type": "error",
     "traceback": [
      "\u001b[31m---------------------------------------------------------------------------\u001b[39m",
      "\u001b[31mKeyboardInterrupt\u001b[39m                         Traceback (most recent call last)",
      "\u001b[36mCell\u001b[39m\u001b[36m \u001b[39m\u001b[32mIn[1]\u001b[39m\u001b[32m, line 9\u001b[39m\n\u001b[32m      5\u001b[39m config[\u001b[33m'\u001b[39m\u001b[33mpreload\u001b[39m\u001b[33m'\u001b[39m] = \u001b[33m'\u001b[39m\u001b[33m00\u001b[39m\u001b[33m'\u001b[39m\n\u001b[32m      7\u001b[39m \u001b[38;5;28;01mfrom\u001b[39;00m\u001b[38;5;250m \u001b[39m\u001b[34;01mtrain\u001b[39;00m\u001b[38;5;250m \u001b[39m\u001b[38;5;28;01mimport\u001b[39;00m train_model\n\u001b[32m----> \u001b[39m\u001b[32m9\u001b[39m \u001b[43mtrain_model\u001b[49m\u001b[43m(\u001b[49m\u001b[43mconfig\u001b[49m\u001b[43m)\u001b[49m\n",
      "\u001b[36mFile \u001b[39m\u001b[32mc:\\Users\\nguye\\Documents\\AI\\Natural Language Processing\\Transformer---Attention-is-all-you-need-\\train.py:269\u001b[39m, in \u001b[36mtrain_model\u001b[39m\u001b[34m(config)\u001b[39m\n\u001b[32m    266\u001b[39m decoder_output = model.decode(encoder_output, encoder_mask, decoder_input, decoder_mask) \u001b[38;5;66;03m#(Batch, seq_len, d_model)\u001b[39;00m\n\u001b[32m    267\u001b[39m proj_output = model.project(decoder_output) \u001b[38;5;66;03m#(Batch, seq_len, tgt_vocab_size)\u001b[39;00m\n\u001b[32m--> \u001b[39m\u001b[32m269\u001b[39m label = \u001b[43mbatch\u001b[49m\u001b[43m[\u001b[49m\u001b[33;43m'\u001b[39;49m\u001b[33;43mlabel\u001b[39;49m\u001b[33;43m'\u001b[39;49m\u001b[43m]\u001b[49m\u001b[43m.\u001b[49m\u001b[43mto\u001b[49m\u001b[43m(\u001b[49m\u001b[43mdevice\u001b[49m\u001b[43m)\u001b[49m \u001b[38;5;66;03m#(Batch, seq_len)\u001b[39;00m\n\u001b[32m    271\u001b[39m \u001b[38;5;66;03m#(Batch, seq_len, tgt_vocab_size) --> #(Batch * seq_len, tgt_vocab_size)\u001b[39;00m\n\u001b[32m    272\u001b[39m loss = loss_fn(proj_output.view(-\u001b[32m1\u001b[39m, tokenizer_tgt.get_vocab_size()), label.view(-\u001b[32m1\u001b[39m))\n",
      "\u001b[31mKeyboardInterrupt\u001b[39m: "
     ]
    },
    {
     "ename": "",
     "evalue": "",
     "output_type": "error",
     "traceback": [
      "\u001b[1;31mThe Kernel crashed while executing code in the current cell or a previous cell. \n",
      "\u001b[1;31mPlease review the code in the cell(s) to identify a possible cause of the failure. \n",
      "\u001b[1;31mClick <a href='https://aka.ms/vscodeJupyterKernelCrash'>here</a> for more info. \n",
      "\u001b[1;31mView Jupyter <a href='command:jupyter.viewOutput'>log</a> for further details."
     ]
    }
   ],
   "source": [
    "from config import get_config\n",
    "config = get_config()\n",
    "config['batch_size'] = 8\n",
    "config['num_epochs'] = 50\n",
    "config['preload'] = '00'\n",
    "\n",
    "from train import train_model\n",
    "\n",
    "train_model(config)"
   ]
  }
 ],
 "metadata": {
  "kernelspec": {
   "display_name": "transformer",
   "language": "python",
   "name": "python3"
  },
  "language_info": {
   "codemirror_mode": {
    "name": "ipython",
    "version": 3
   },
   "file_extension": ".py",
   "mimetype": "text/x-python",
   "name": "python",
   "nbconvert_exporter": "python",
   "pygments_lexer": "ipython3",
   "version": "3.12.9"
  }
 },
 "nbformat": 4,
 "nbformat_minor": 2
}
